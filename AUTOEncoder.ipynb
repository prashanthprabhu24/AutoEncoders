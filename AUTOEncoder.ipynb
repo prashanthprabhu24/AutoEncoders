{
  "nbformat": 4,
  "nbformat_minor": 0,
  "metadata": {
    "colab": {
      "name": "AUTOEncoder.ipynb",
      "provenance": [],
      "private_outputs": true,
      "collapsed_sections": []
    },
    "kernelspec": {
      "name": "python3",
      "display_name": "Python 3"
    },
    "language_info": {
      "name": "python"
    },
    "accelerator": "GPU"
  },
  "cells": [
    {
      "cell_type": "markdown",
      "source": [
        "Date : 10/03/2022\n",
        "Project : Autoencoder (Convolutional Autoencoder)\n",
        "Author : Prashanth N"
      ],
      "metadata": {
        "id": "ddFjFADrZa0f"
      }
    },
    {
      "cell_type": "code",
      "execution_count": null,
      "metadata": {
        "id": "6dOp0k36ZFGs"
      },
      "outputs": [],
      "source": [
        "!unzip '/content/dataset.zip' "
      ]
    },
    {
      "cell_type": "markdown",
      "source": [
        "Steps : \n",
        "1. Get the dataset\n",
        "2. Preprocess the dataset\n",
        "3. Create the model\n",
        "4. Train the model\n",
        "5. Reconstruct the input data/ Show Output\n",
        "6. Compare with the actual input"
      ],
      "metadata": {
        "id": "db6GSG3qjPE3"
      }
    },
    {
      "cell_type": "code",
      "source": [
        "# 1. Get the dataset \n",
        "import matplotlib.pyplot as plt\n",
        "import os\n",
        "import cv2\n",
        "\n",
        "folder = '/content/dataset'\n",
        "for i, image in enumerate(os.listdir(folder)):\n",
        "  img = cv2.imread(folder+'/'+image,1)\n",
        "  print('Original Input Image : ',i)\n",
        "  plt.imshow(img)\n",
        "  plt.show()\n",
        "  print()"
      ],
      "metadata": {
        "id": "keXl4s4Pj3zg"
      },
      "execution_count": null,
      "outputs": []
    },
    {
      "cell_type": "code",
      "source": [
        "# 2. Pre-process the data\n",
        "from keras.preprocessing.image import img_to_array\n",
        "import numpy as np\n",
        "import cv2\n",
        "\n",
        "img_data = []\n",
        "folder = '/content/dataset'\n",
        "for i, image in enumerate(os.listdir(folder)):\n",
        "  img = cv2.imread(folder+'/'+image,1)\n",
        "  rgb_img = cv2.cvtColor(img,cv2.COLOR_BGR2RGB)\n",
        "  rgb_img = cv2.resize(rgb_img,(256,256))\n",
        "  img_data.append(img_to_array(rgb_img))\n",
        "img_final = np.reshape(img_data,(len(img_data),256,256,3))\n",
        "img_final = img_final.astype('float32')/255\n",
        "print('Pre-Processed Input image : ')\n",
        "for i in img_final:\n",
        "  plt.imshow(i.reshape(256,256,3))\n",
        "  plt.show()"
      ],
      "metadata": {
        "id": "29CxST0Ql0QF"
      },
      "execution_count": null,
      "outputs": []
    },
    {
      "cell_type": "code",
      "source": [
        "# 3. Create the model\n",
        "from keras.layers import Dense, Conv2D, MaxPooling2D, UpSampling2D\n",
        "from keras.models import Sequential\n",
        "\n",
        "model = Sequential()#([inp,vsize], out)\n",
        "\n",
        "# Encoding\n",
        "model.add(Conv2D(64,(3,3), activation = 'relu', padding='same', input_shape=(256,256,3)))\n",
        "model.add(MaxPooling2D((2,2), padding='same'))\n",
        "model.add(Conv2D(32, (3,3), activation='relu', padding='same'))\n",
        "model.add(MaxPooling2D((2,2), padding='same'))\n",
        "model.add(Conv2D(16, (3,3), activation='relu', padding='same'))\n",
        "model.add(MaxPooling2D((2,2), padding='same'))\n",
        "\n",
        "# Decoding\n",
        "model.add(Conv2D(16, (3,3), activation='relu', padding='same'))\n",
        "model.add(UpSampling2D((2,2)))\n",
        "model.add(Conv2D(32, (3,3), activation='relu', padding='same'))\n",
        "model.add(UpSampling2D((2,2)))\n",
        "model.add(Conv2D(64, (3,3), activation='relu', padding='same'))\n",
        "model.add(UpSampling2D((2,2)))\n",
        "model.add(Conv2D(3, (3,3), activation='relu', padding='same'))\n",
        "\n",
        "# Compiling\n",
        "model.compile(optimizer='adam', loss='mean_squared_error', metrics=['accuracy'])\n",
        "model.summary()\n"
      ],
      "metadata": {
        "id": "nsgotFihmYyQ"
      },
      "execution_count": null,
      "outputs": []
    },
    {
      "cell_type": "code",
      "source": [
        "# 4. Train the model\n",
        "import tensorflow as tf\n",
        "tf.config.run_functions_eagerly(True)\n",
        "model.fit(img_final, img_final, epochs = 10, shuffle=True)\n"
      ],
      "metadata": {
        "id": "FnH-1b88qUNu"
      },
      "execution_count": null,
      "outputs": []
    },
    {
      "cell_type": "code",
      "source": [
        "# 5. Reconstruct the input data/ Show Output\n",
        "\n",
        "pred = model.predict(img_final)\n",
        "for i,j in enumerate(range(len(img_final))):\n",
        "  print('Reconstructed Input Images(Output) : ', i)\n",
        "  plt.imshow(pred[j].reshape(256,256,3))\n",
        "  plt.show()\n",
        "  print()"
      ],
      "metadata": {
        "id": "Px4_H9qrq2xW"
      },
      "execution_count": null,
      "outputs": []
    },
    {
      "cell_type": "code",
      "source": [
        "\n",
        "# 6. Compare with the actual input\n",
        "\n",
        "for i,j in enumerate(range(len(img_final))):\n",
        "  print('Input Image v/s Reconstructed Image : ', i)\n",
        "  fig = plt.figure(figsize=(10,7))\n",
        "  fig.add_subplot(1,2,1)\n",
        "  plt.imshow(img_final[j].reshape(256,256,3))\n",
        "\n",
        "  fig.add_subplot(1,2,2)\n",
        "  plt.imshow(pred[j].reshape(256,256,3))\n",
        "  plt.show()\n",
        "  print()"
      ],
      "metadata": {
        "id": "2pZC93iQrTTP"
      },
      "execution_count": null,
      "outputs": []
    }
  ]
}